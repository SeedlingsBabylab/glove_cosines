{
 "cells": [
  {
   "cell_type": "code",
   "execution_count": 12,
   "metadata": {
    "collapsed": false
   },
   "outputs": [],
   "source": [
    "from distance import *\n",
    "import numpy as np\n",
    "import csv"
   ]
  },
  {
   "cell_type": "code",
   "execution_count": 2,
   "metadata": {
    "collapsed": false
   },
   "outputs": [],
   "source": [
    "W, vocab, ivocab = generate_default()"
   ]
  },
  {
   "cell_type": "code",
   "execution_count": 3,
   "metadata": {
    "collapsed": true
   },
   "outputs": [],
   "source": [
    "def compare_wordpairs(model, vocab, ivocab, wordpairs):\n",
    "    \"\"\"\n",
    "    Calculates the cosine similarity of a\n",
    "    list of tuples. Each tuple is a word pair.\n",
    "    Returns a new list of tuples of the form:\n",
    "    \n",
    "    (word1, word2, cos(theta))\n",
    "    \n",
    "    \"\"\"\n",
    "    results = []\n",
    "    for a, b in wordpairs:\n",
    "        result = distance(model, vocab, ivocab, a, b)\n",
    "        results.append((a, b, result))\n",
    "    return results"
   ]
  },
  {
   "cell_type": "code",
   "execution_count": 4,
   "metadata": {
    "collapsed": true
   },
   "outputs": [],
   "source": [
    "# inputs are stemmed/lemmatized in accordance with how the\n",
    "# training data was stemmed (NLTK Snowball stemmer)\n",
    "\n",
    "related_word_pairs = [\n",
    "    (\"foot\", \"hand\"),\n",
    "    (\"stroller\", \"car\"),\n",
    "    (\"juic\", \"milk\"),\n",
    "    (\"mouth\", \"nose\"),\n",
    "    (\"book\", \"ball\"),\n",
    "    (\"blanket\", \"diaper\"),\n",
    "    (\"bottl\", \"spoon\"),\n",
    "    (\"dog\", \"baby\"),\n",
    "    (\"foot\", \"sock\"),\n",
    "    (\"cooki\", \"banana\")\n",
    "    \n",
    "]\n",
    "\n",
    "unrelated_word_pairs = [\n",
    "    (\"sock\", \"juic\"),\n",
    "    (\"milk\", \"foot\"),\n",
    "    (\"banana\", \"nose\"),\n",
    "    (\"mouth\", \"cooki\"),\n",
    "    (\"blanket\", \"dog\"),\n",
    "    (\"baby\", \"spoon\"),\n",
    "    (\"book\", \"diaper\"),\n",
    "    (\"juic\", \"car\"),\n",
    "    (\"nose\", \"bottl\"),\n",
    "    (\"hand\", \"stroller\"),\n",
    "    (\"mouth\", \"ball\")\n",
    "]"
   ]
  },
  {
   "cell_type": "code",
   "execution_count": 5,
   "metadata": {
    "collapsed": true
   },
   "outputs": [],
   "source": [
    "def average_cosine(cosines):\n",
    "    return sum(result[2] for result in cosines)/len(cosines)"
   ]
  },
  {
   "cell_type": "code",
   "execution_count": 6,
   "metadata": {
    "collapsed": false
   },
   "outputs": [
    {
     "data": {
      "text/plain": [
       "[('foot', 'hand', 0.72323122722355138),\n",
       " ('stroller', 'car', 0.17299204253285755),\n",
       " ('juic', 'milk', 0.7832319075879608),\n",
       " ('mouth', 'nose', 0.76357200982325046),\n",
       " ('book', 'ball', 0.41761376366592895),\n",
       " ('blanket', 'diaper', 0.50942761827854999),\n",
       " ('bottl', 'spoon', 0.54258440559238152),\n",
       " ('dog', 'baby', -0.28228422563518762),\n",
       " ('foot', 'sock', 0.62634813595117356),\n",
       " ('cooki', 'banana', 0.50183917516606724)]"
      ]
     },
     "execution_count": 6,
     "metadata": {},
     "output_type": "execute_result"
    }
   ],
   "source": [
    "related_cosines = compare_wordpairs(W, vocab, ivocab, related_word_pairs)\n",
    "related_cosines"
   ]
  },
  {
   "cell_type": "code",
   "execution_count": 7,
   "metadata": {
    "collapsed": false
   },
   "outputs": [
    {
     "data": {
      "text/plain": [
       "[('sock', 'juic', 0.2574629517367607),\n",
       " ('milk', 'foot', 0.16402779195825798),\n",
       " ('banana', 'nose', 0.13372606560290543),\n",
       " ('mouth', 'cooki', 0.44283698150016793),\n",
       " ('blanket', 'dog', 0.34442949677196177),\n",
       " ('baby', 'spoon', -0.12844652919609426),\n",
       " ('book', 'diaper', 0.24579499512830408),\n",
       " ('juic', 'car', 0.32906757872266612),\n",
       " ('nose', 'bottl', 0.25367195606986098),\n",
       " ('hand', 'stroller', 0.069228655563472977),\n",
       " ('mouth', 'ball', 0.35252540845220826)]"
      ]
     },
     "execution_count": 7,
     "metadata": {},
     "output_type": "execute_result"
    }
   ],
   "source": [
    "unrelated_cosines = compare_wordpairs(W, vocab, ivocab, unrelated_word_pairs)\n",
    "unrelated_cosines"
   ]
  },
  {
   "cell_type": "code",
   "execution_count": 8,
   "metadata": {
    "collapsed": false
   },
   "outputs": [
    {
     "data": {
      "text/plain": [
       "0.47585560601865334"
      ]
     },
     "execution_count": 8,
     "metadata": {},
     "output_type": "execute_result"
    }
   ],
   "source": [
    "average_cosine(related_cosines)"
   ]
  },
  {
   "cell_type": "code",
   "execution_count": 9,
   "metadata": {
    "collapsed": false
   },
   "outputs": [
    {
     "data": {
      "text/plain": [
       "0.22402957748277019"
      ]
     },
     "execution_count": 9,
     "metadata": {},
     "output_type": "execute_result"
    }
   ],
   "source": [
    "average_cosine(unrelated_cosines)"
   ]
  },
  {
   "cell_type": "code",
   "execution_count": 13,
   "metadata": {
    "collapsed": false
   },
   "outputs": [],
   "source": [
    "# write out results to csv\n",
    "with open(\"glove_cosines.csv\", \"wb\") as output:\n",
    "    writer = csv.writer(output)\n",
    "    writer.writerow([\"type\", \"word1\", \"word2\", \"cosine\"])\n",
    "    for pair in related_cosines:\n",
    "        writer.writerow([\"related\"] + list(pair))\n",
    "    for pair in unrelated_cosines:\n",
    "        writer.writerow([\"unrelated\"] + list(pair))"
   ]
  },
  {
   "cell_type": "code",
   "execution_count": null,
   "metadata": {
    "collapsed": true
   },
   "outputs": [],
   "source": []
  }
 ],
 "metadata": {
  "kernelspec": {
   "display_name": "Python 2",
   "language": "python",
   "name": "python2"
  },
  "language_info": {
   "codemirror_mode": {
    "name": "ipython",
    "version": 2
   },
   "file_extension": ".py",
   "mimetype": "text/x-python",
   "name": "python",
   "nbconvert_exporter": "python",
   "pygments_lexer": "ipython2",
   "version": "2.7.12"
  }
 },
 "nbformat": 4,
 "nbformat_minor": 1
}
